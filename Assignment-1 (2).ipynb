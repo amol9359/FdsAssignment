{
 "cells": [
  {
   "cell_type": "code",
   "execution_count": 1,
   "id": "b7c0ef5b",
   "metadata": {},
   "outputs": [
    {
     "name": "stdout",
     "output_type": "stream",
     "text": [
      "What is your Age?  24\n"
     ]
    }
   ],
   "source": [
    "# take input from the user: age\n",
    "age = int(input(\"What is your Age?  \"))\n"
   ]
  },
  {
   "cell_type": "code",
   "execution_count": 6,
   "id": "6c63f76c",
   "metadata": {},
   "outputs": [
    {
     "name": "stdout",
     "output_type": "stream",
     "text": [
      "Do you eat Pizza?  No\n"
     ]
    }
   ],
   "source": [
    "pizza = input(\"Do you eat Pizza?  \")\n"
   ]
  },
  {
   "cell_type": "code",
   "execution_count": 3,
   "id": "1a701711",
   "metadata": {},
   "outputs": [
    {
     "name": "stdout",
     "output_type": "stream",
     "text": [
      "Do you do exercise?  Yes\n"
     ]
    }
   ],
   "source": [
    "exercise = input(\"Do you do exercise?  \")"
   ]
  },
  {
   "cell_type": "code",
   "execution_count": 5,
   "id": "1d56d45b",
   "metadata": {},
   "outputs": [
    {
     "name": "stdout",
     "output_type": "stream",
     "text": [
      "You are fit\n"
     ]
    }
   ],
   "source": [
    "if (age<30):\n",
    "    if(pizza=='No'):\n",
    "        print(\"You are unfit\")\n",
    "    else:\n",
    "        print(\"You are fit\")\n",
    "else:\n",
    "    if(exercise==\"Yes\"):\n",
    "        print(\"You are fit\")\n",
    "    else:\n",
    "        print(\"You are unfit\")"
   ]
  },
  {
   "cell_type": "code",
   "execution_count": null,
   "id": "459feb29",
   "metadata": {},
   "outputs": [],
   "source": []
  }
 ],
 "metadata": {
  "kernelspec": {
   "display_name": "Python 3 (ipykernel)",
   "language": "python",
   "name": "python3"
  },
  "language_info": {
   "codemirror_mode": {
    "name": "ipython",
    "version": 3
   },
   "file_extension": ".py",
   "mimetype": "text/x-python",
   "name": "python",
   "nbconvert_exporter": "python",
   "pygments_lexer": "ipython3",
   "version": "3.9.7"
  }
 },
 "nbformat": 4,
 "nbformat_minor": 5
}
