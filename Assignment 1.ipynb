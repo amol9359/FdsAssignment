{
 "cells": [
  {
   "cell_type": "markdown",
   "id": "5f563f63",
   "metadata": {},
   "source": [
    "# Assignment 1\n"
   ]
  },
  {
   "cell_type": "code",
   "execution_count": null,
   "id": "7f779e48",
   "metadata": {},
   "outputs": [],
   "source": [
    "#Q1\n",
    "values= 'hello',-87.8,6\n",
    "expressions= * , - , / , + "
   ]
  },
  {
   "cell_type": "code",
   "execution_count": null,
   "id": "264c8e51",
   "metadata": {},
   "outputs": [],
   "source": [
    "#Q2\n",
    "String in python is a datatype,\n",
    "which can be created simply enclosing by single , double or triple quotes.\n",
    "while variable is reserved memory location to store values. "
   ]
  },
  {
   "cell_type": "code",
   "execution_count": null,
   "id": "7c417bdf",
   "metadata": {},
   "outputs": [],
   "source": [
    "#Q3\n",
    "integer\n",
    "float\n",
    "string"
   ]
  },
  {
   "cell_type": "code",
   "execution_count": null,
   "id": "fd28679c",
   "metadata": {},
   "outputs": [],
   "source": [
    "#Q4\n",
    "An expression is a combination of operators and operands ,\n",
    "that is interpreted to produce some other values. \n"
   ]
  },
  {
   "cell_type": "code",
   "execution_count": null,
   "id": "599d7d5a",
   "metadata": {},
   "outputs": [],
   "source": [
    "#Q5\n",
    "1)an expression evalutes to a value while a statement executes something \n",
    "2)evalution of expression always produces or returns a result value while \n",
    "   execution of statement may or may not produces or returns a result value.\n",
    "3)Every expression can't be a statement but every ststement can be an expression.\n"
   ]
  },
  {
   "cell_type": "code",
   "execution_count": 2,
   "id": "6864c984",
   "metadata": {},
   "outputs": [],
   "source": [
    "#Q6\n",
    "variable bacon contains 22\n",
    "and bacon+1 will give output 23\n"
   ]
  },
  {
   "cell_type": "code",
   "execution_count": 11,
   "id": "55db23dd",
   "metadata": {},
   "outputs": [
    {
     "data": {
      "text/plain": [
       "'spamspamspam'"
      ]
     },
     "execution_count": 11,
     "metadata": {},
     "output_type": "execute_result"
    }
   ],
   "source": [
    "#Q7\n",
    "'spam'+'spamspam'"
   ]
  },
  {
   "cell_type": "code",
   "execution_count": 12,
   "id": "907d0ef1",
   "metadata": {},
   "outputs": [
    {
     "data": {
      "text/plain": [
       "'spamspamspam'"
      ]
     },
     "execution_count": 12,
     "metadata": {},
     "output_type": "execute_result"
    }
   ],
   "source": [
    "\"spam\"*3"
   ]
  },
  {
   "cell_type": "markdown",
   "id": "4ac9d924",
   "metadata": {},
   "source": [
    "Both will give same output "
   ]
  },
  {
   "cell_type": "code",
   "execution_count": 13,
   "id": "14788d79",
   "metadata": {},
   "outputs": [],
   "source": [
    "#Q8\n",
    "eggs=56"
   ]
  },
  {
   "cell_type": "code",
   "execution_count": 14,
   "id": "dff19636",
   "metadata": {},
   "outputs": [
    {
     "ename": "SyntaxError",
     "evalue": "cannot assign to literal (Temp/ipykernel_13928/1970962374.py, line 1)",
     "output_type": "error",
     "traceback": [
      "\u001b[1;36m  File \u001b[1;32m\"C:\\Users\\Admin\\AppData\\Local\\Temp/ipykernel_13928/1970962374.py\"\u001b[1;36m, line \u001b[1;32m1\u001b[0m\n\u001b[1;33m    100=eggs\u001b[0m\n\u001b[1;37m    ^\u001b[0m\n\u001b[1;31mSyntaxError\u001b[0m\u001b[1;31m:\u001b[0m cannot assign to literal\n"
     ]
    }
   ],
   "source": [
    "100=eggs"
   ]
  },
  {
   "cell_type": "markdown",
   "id": "2f952c8b",
   "metadata": {},
   "source": [
    " Variable name can have numbers but not at the beginning. Therefore 100 is invalid as a variable."
   ]
  },
  {
   "cell_type": "code",
   "execution_count": 16,
   "id": "d3ac7b37",
   "metadata": {},
   "outputs": [
    {
     "name": "stdout",
     "output_type": "stream",
     "text": [
      "556\n",
      "90.0\n",
      "56\n"
     ]
    }
   ],
   "source": [
    "#Q9\n",
    "print(int(556))\n",
    "print(float(90))\n",
    "print(str(56))"
   ]
  },
  {
   "cell_type": "markdown",
   "id": "5c05e69f",
   "metadata": {},
   "source": [
    "int,float,str can be used to get the integer, floating-point number, or string\n",
    "version of a value respectively."
   ]
  },
  {
   "cell_type": "code",
   "execution_count": 17,
   "id": "b639491a",
   "metadata": {},
   "outputs": [
    {
     "ename": "TypeError",
     "evalue": "can only concatenate str (not \"int\") to str",
     "output_type": "error",
     "traceback": [
      "\u001b[1;31m---------------------------------------------------------------------------\u001b[0m",
      "\u001b[1;31mTypeError\u001b[0m                                 Traceback (most recent call last)",
      "\u001b[1;32m~\\AppData\\Local\\Temp/ipykernel_13928/3121116994.py\u001b[0m in \u001b[0;36m<module>\u001b[1;34m\u001b[0m\n\u001b[1;32m----> 1\u001b[1;33m \u001b[1;34m'I have eaten'\u001b[0m\u001b[1;33m+\u001b[0m\u001b[1;36m99\u001b[0m\u001b[1;33m+\u001b[0m\u001b[1;34m\"burritos\"\u001b[0m\u001b[1;33m\u001b[0m\u001b[1;33m\u001b[0m\u001b[0m\n\u001b[0m",
      "\u001b[1;31mTypeError\u001b[0m: can only concatenate str (not \"int\") to str"
     ]
    }
   ],
   "source": [
    "#Q10\n",
    "'I have eaten'+99+\"burritos\""
   ]
  },
  {
   "cell_type": "markdown",
   "id": "1eb8f0fc",
   "metadata": {},
   "source": [
    "Here we got error because 99 is integer value and + concatenate only string and not integer."
   ]
  }
 ],
 "metadata": {
  "kernelspec": {
   "display_name": "Python 3 (ipykernel)",
   "language": "python",
   "name": "python3"
  },
  "language_info": {
   "codemirror_mode": {
    "name": "ipython",
    "version": 3
   },
   "file_extension": ".py",
   "mimetype": "text/x-python",
   "name": "python",
   "nbconvert_exporter": "python",
   "pygments_lexer": "ipython3",
   "version": "3.9.7"
  }
 },
 "nbformat": 4,
 "nbformat_minor": 5
}
