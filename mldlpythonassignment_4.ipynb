{
  "nbformat": 4,
  "nbformat_minor": 0,
  "metadata": {
    "colab": {
      "name": "mldlpythonassignment_4",
      "provenance": [],
      "authorship_tag": "ABX9TyNxoFPWy0VZq+9MfJ+dwaz2",
      "include_colab_link": true
    },
    "kernelspec": {
      "name": "python3",
      "display_name": "Python 3"
    },
    "language_info": {
      "name": "python"
    }
  },
  "cells": [
    {
      "cell_type": "markdown",
      "metadata": {
        "id": "view-in-github",
        "colab_type": "text"
      },
      "source": [
        "<a href=\"https://colab.research.google.com/github/amol9359/FdsAssignment_1/blob/main/mldlpythonassignment_4.ipynb\" target=\"_parent\"><img src=\"https://colab.research.google.com/assets/colab-badge.svg\" alt=\"Open In Colab\"/></a>"
      ]
    },
    {
      "cell_type": "code",
      "execution_count": null,
      "metadata": {
        "id": "pHTxyF3FAxRx"
      },
      "outputs": [],
      "source": [
        "#Q1.1)\n",
        "class poly:\n",
        "    def __init__(self, a, b, c):\n",
        "        self.a = float(a)\n",
        "        self.b = float(b)\n",
        "        self.c = float(c)\n",
        "        self.area = 0\n",
        "\n",
        "class triangle(poly):\n",
        "    def __init__(self, a, b, c):\n",
        "        poly.__init__(self, a, b, c)\n",
        "\n",
        "    def calculate_area(self):\n",
        "        s = (self.a + self.b + self.c) / 2\n",
        "        self.area = float((s * (s - self.a) * (s - self.b) * (s - self.c))) ** 0.5\n",
        "\n",
        "    def get_area(self):\n",
        "        return self.area     \n",
        "\n",
        "a, b, c = input(\"a = \"), input(\"b = \"), input(\"c = \")\n",
        "\n",
        "t = triangle(a, b, c)\n",
        "t.calculate_area()\n",
        "print(\"area : {}\".format(t.get_area()))"
      ]
    },
    {
      "cell_type": "code",
      "source": [
        "#Q1.2)\n",
        "#Function to Filter words based on length\n",
        "def filter_long_words(WordList,n):\n",
        "    ''' This function returns list of words are longer than Argument n . \n",
        "    Note : n has been considerd has an integer'''\n",
        "    \n",
        "    #List Comprehensions\n",
        "    Wordlist=[x.strip() for x in WordList if len(x.strip())>n]\n",
        "    \n",
        "    if(len(Wordlist)>0):\n",
        "        print(\"\\n Output:\")\n",
        "        print(\"\\n The List of longest words , which  are longer than \"+str(n)+\" is :\")\n",
        "        return Wordlist\n",
        "    else:\n",
        "        return \"No Words longer than specified number \"+str(n)\n",
        "    \n",
        "#Ask user's Input\n",
        "print(\"Input:\")\n",
        "string= input(\"Please enter your words: \")\n",
        "number= int(input(\"Please enter your number: \"))\n",
        "\n",
        "# Split the words by \",\" comma and convert into list\n",
        "list_Of_Words = list(string.split(\",\"))\n",
        "#Function Execution\n",
        "filter_long_words(list_Of_Words,number)"
      ],
      "metadata": {
        "id": "ZwbxdMCSA_nS"
      },
      "execution_count": null,
      "outputs": []
    },
    {
      "cell_type": "code",
      "source": [
        "#Q2.1)\n",
        "#Function to map length of words with words \n",
        "def map_Words_to_Length(List):\n",
        "    ''' This function Map's the words with their corresponding length'''\n",
        "    return list(map(len, List))\n",
        "\n",
        "word_List=list(input(\"Input : Please enter Words : \").split(\",\"))\n",
        "#List Comprehension has been done to remove white trailing white spaces\n",
        "List=[x.strip() for x in word_List]\n",
        "#function Execution\n",
        "Words_lengths=map_Words_to_Length(List)\n",
        "\n",
        "print(\"Output: Length of Words are :\",Words_lengths )"
      ],
      "metadata": {
        "id": "L9127LkGBIzA"
      },
      "execution_count": null,
      "outputs": []
    },
    {
      "cell_type": "code",
      "source": [
        "#Q2.2)\n",
        "def vowel_checker(inputChar):\n",
        "    #docstring\n",
        "    '''This function will return True/False based upon input character provided by user'''\n",
        "    return_value=''\n",
        "    if(len(inputChar)==1):\n",
        "        vowel_list=['a','e','i','o','u']\n",
        "        if (inputChar.lower() in vowel_list):\n",
        "            return_value= True\n",
        "        else:\n",
        "            return_value= False\n",
        "    else:\n",
        "        return_value=\"Please enter single character only!\"        \n",
        "    return return_value\n",
        "\n",
        "#Ask user's Input\n",
        "print(\"Enter character to check that it is Vowel or not\")\n",
        "input_value = input(\"Input Value: \")\n",
        "#Function Execution\n",
        "output_value=vowel_checker(input_value) \n",
        "#Output\n",
        "print(\"Output Value:\",output_value)"
      ],
      "metadata": {
        "id": "pZwecLZTBRvJ"
      },
      "execution_count": null,
      "outputs": []
    }
  ]
}