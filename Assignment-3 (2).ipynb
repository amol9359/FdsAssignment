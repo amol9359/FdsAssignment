{
 "cells": [
  {
   "cell_type": "code",
   "execution_count": 4,
   "id": "fc742d73",
   "metadata": {},
   "outputs": [
    {
     "name": "stdout",
     "output_type": "stream",
     "text": [
      "select 1 for Addition\n",
      "select 2 for Substraction\n",
      "select 3 for Multiplication\n",
      "select 4 for Division\n",
      "Enter 1-4:4\n",
      "Enter first number5\n",
      "Enter second number2\n",
      "Your answer is: 2.5\n"
     ]
    }
   ],
   "source": [
    "#We are going to make calculator\n",
    "print(\"select 1 for Addition\")\n",
    "print(\"select 2 for Substraction\")\n",
    "print(\"select 3 for Multiplication\")\n",
    "print(\"select 4 for Division\")\n",
    "operation=input(\"Enter 1-4:\")\n",
    "x1=int(input(\"Enter first number\"))\n",
    "x2=int(input(\"Enter second number\"))\n",
    "x=[x1,x2]\n",
    "lambda_add=lambda x:sum(x)\n",
    "lambda_sub=lambda x:x[0]-x[1]\n",
    "lambda_mul=lambda x:x[0]*x[1]\n",
    "lambda_div=lambda x:x[0]/x[1]\n",
    "if operation =='1':\n",
    "    print(\"Your answer is:\",lambda_add(x))\n",
    "elif operation =='2':\n",
    "    print(\"Your answer is:\",lambda_sub(x))\n",
    "elif operation =='3':\n",
    "    print(\"Your answer is:\",lambda_mul(x))\n",
    "elif operation =='4':\n",
    "    print(\"Your answer is:\",lambda_div(x))\n",
    "\n"
   ]
  },
  {
   "cell_type": "code",
   "execution_count": null,
   "id": "09595358",
   "metadata": {},
   "outputs": [],
   "source": []
  },
  {
   "cell_type": "code",
   "execution_count": null,
   "id": "12dda421",
   "metadata": {},
   "outputs": [],
   "source": []
  }
 ],
 "metadata": {
  "kernelspec": {
   "display_name": "Python 3 (ipykernel)",
   "language": "python",
   "name": "python3"
  },
  "language_info": {
   "codemirror_mode": {
    "name": "ipython",
    "version": 3
   },
   "file_extension": ".py",
   "mimetype": "text/x-python",
   "name": "python",
   "nbconvert_exporter": "python",
   "pygments_lexer": "ipython3",
   "version": "3.9.7"
  }
 },
 "nbformat": 4,
 "nbformat_minor": 5
}
