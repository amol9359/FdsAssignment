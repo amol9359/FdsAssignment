{
  "nbformat": 4,
  "nbformat_minor": 0,
  "metadata": {
    "colab": {
      "name": "mldlpythonassignmet_10",
      "provenance": [],
      "authorship_tag": "ABX9TyPAuQXEifoG2toSfBXL2p65",
      "include_colab_link": true
    },
    "kernelspec": {
      "name": "python3",
      "display_name": "Python 3"
    },
    "language_info": {
      "name": "python"
    }
  },
  "cells": [
    {
      "cell_type": "markdown",
      "metadata": {
        "id": "view-in-github",
        "colab_type": "text"
      },
      "source": [
        "<a href=\"https://colab.research.google.com/github/amol9359/FdsAssignment_1/blob/main/mldlpythonassignmet_10.ipynb\" target=\"_parent\"><img src=\"https://colab.research.google.com/assets/colab-badge.svg\" alt=\"Open In Colab\"/></a>"
      ]
    },
    {
      "cell_type": "code",
      "execution_count": 2,
      "metadata": {
        "colab": {
          "base_uri": "https://localhost:8080/"
        },
        "id": "ycU-2y4hzfYE",
        "outputId": "3a59c198-bf02-4538-dd9f-07d06791377e"
      },
      "outputs": [
        {
          "output_type": "stream",
          "name": "stdout",
          "text": [
            "5\n",
            "Denominator has to be greater than 0\n"
          ]
        }
      ],
      "source": [
        "#Write a function to compute 5/0 and use try/except to catch the exceptions.\n",
        "def division(number):\n",
        " number=int(input())\n",
        " try:\n",
        "     number%0\n",
        " except ZeroDivisionError:\n",
        "     print(\"Denominator has to be greater than 0\")\n",
        "division('number')"
      ]
    },
    {
      "cell_type": "code",
      "source": [
        "# 2. Implement a Python program to generate all sentences where subject is in[\"Americans\",#\"Indians\"] and \n",
        "# verb is in [\"Play\", \"watch\"] and the object is in [\"Baseball\",\"cricket\"].\n",
        "# Hint: Subject,Verb and Object should be declared in the program as shown below.\n",
        "# subjects=[\"Americans \",\"Indians\"]verbs=[\"play\",\"watch\"]objects=[\"Basebal\",\"Cricket\"]\n",
        "# Output should come as below:\n",
        "# Americans play Baseball.\n",
        "# Americans play Cricket.\n",
        "# Americans watch Baseball.\n",
        "# Americans watch Cricket.\n",
        "# Indians play Baseball.\n",
        "# Indians play Cricket.\n",
        "# Indians watch Baseball.\n",
        "# Indians watch Cricket.\n",
        "Subject=['Americans', 'Indians']\n",
        "Verb=['play', 'watch']\n",
        "Object=['Baseball', 'Cricket']\n",
        "All_sentences=[(sub +\" \"+ ver +\" \" + obj) for sub in Subject for ver in Verb for obj in Object]\n",
        "for sentence in All_sentences:\n",
        "  print(sentence)"
      ],
      "metadata": {
        "colab": {
          "base_uri": "https://localhost:8080/"
        },
        "id": "qUIBzbkFz83G",
        "outputId": "70eb8207-0536-4769-baee-223a8f5528a7"
      },
      "execution_count": 3,
      "outputs": [
        {
          "output_type": "stream",
          "name": "stdout",
          "text": [
            "Americans play Baseball\n",
            "Americans play Cricket\n",
            "Americans watch Baseball\n",
            "Americans watch Cricket\n",
            "Indians play Baseball\n",
            "Indians play Cricket\n",
            "Indians watch Baseball\n",
            "Indians watch Cricket\n"
          ]
        }
      ]
    },
    {
      "cell_type": "code",
      "source": [
        ""
      ],
      "metadata": {
        "id": "53P5mD8R0cNe"
      },
      "execution_count": null,
      "outputs": []
    }
  ]
}